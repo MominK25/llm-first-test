{
 "cells": [
  {
   "cell_type": "code",
   "execution_count": 1,
   "metadata": {},
   "outputs": [
    {
     "data": {
      "text/plain": [
       "True"
      ]
     },
     "execution_count": 1,
     "metadata": {},
     "output_type": "execute_result"
    }
   ],
   "source": [
    "from dotenv import load_dotenv, find_dotenv\n",
    "\n",
    "load_dotenv(find_dotenv())"
   ]
  },
  {
   "cell_type": "code",
   "execution_count": 7,
   "metadata": {},
   "outputs": [],
   "source": [
    "from openai import OpenAI\n",
    "\n",
    "client = OpenAI(\n",
    "  organization='org-kM5vL4lwfdGM4lP7GtgHtU5Y',\n",
    "  project='$PROJECT_ID',\n",
    ")"
   ]
  },
  {
   "cell_type": "code",
   "execution_count": 48,
   "metadata": {},
   "outputs": [
    {
     "name": "stdout",
     "output_type": "stream",
     "text": [
      "content=\"Arr matey, I be no expert on them land lubber shows, but I've heard tell of this Eren Yaeger from Attack on Titans. From what I gather, in the first episode, poor Eren finds himself in a right mess when his hometown is attacked by them giant Titans. He be witnessin' some real tragedy, with his ma gettin' chomped by one of them beasts. And to top it off, he be gettin' accused of bein' a traitor and thrown in the brig! Aye, it be a rough start for that lad, but I reckon he be havin' some adventures ahead of him.\" response_metadata={'token_usage': {'completion_tokens': 135, 'prompt_tokens': 36, 'total_tokens': 171}, 'model_name': 'gpt-3.5-turbo', 'system_fingerprint': None, 'finish_reason': 'stop', 'logprobs': None} id='run-db050144-778c-4d04-a5b1-20cbe36fa775-0'\n"
     ]
    }
   ],
   "source": [
    "from langchain.schema import (\n",
    "    AIMessage,\n",
    "    HumanMessage,\n",
    "    SystemMessage\n",
    ")\n",
    "from langchain.chat_models import ChatOpenAI\n",
    "chat = ChatOpenAI(model_name=\"gpt-3.5-turbo\",temperature=0.3)\n",
    "messages = [\n",
    "    SystemMessage(content=\"pretend you're a pirate going to prison\"),\n",
    "    HumanMessage(content=\"Explain what happened to Eren Yaeger in first episode of Attack on Titans\")\n",
    "]  \n",
    "invoke=chat(messages)\n",
    "print(invoke)\n"
   ]
  },
  {
   "cell_type": "code",
   "execution_count": 44,
   "metadata": {},
   "outputs": [
    {
     "name": "stdout",
     "output_type": "stream",
     "text": [
      "       id  first_name         last_name                           email  \\\n",
      "0       1  Hildegarde  Featherstonhalgh   hfeatherstonhalgh0@zimbio.com   \n",
      "1       2    Bernette          Kalkofer            bkalkofer1@cisco.com   \n",
      "2       3       Eleni             Ainge         eainge2@hugedomains.com   \n",
      "3       4       Mason            Dreher                  mdreher3@de.vu   \n",
      "4       5      Mickie          Nannetti           mnannetti4@taobao.com   \n",
      "..    ...         ...               ...                             ...   \n",
      "995   996        Iver         Gauthorpp          igauthorpprn@imgur.com   \n",
      "996   997     Katrine         McCrackem  kmccrackemro@printfriendly.com   \n",
      "997   998      Blinny          Greenard         bgreenardrp@sina.com.cn   \n",
      "998   999       Twila          Greveson     tgrevesonrq@fastcompany.com   \n",
      "999  1000      Ashlen          Westpfel         awestpfelrr@vinaora.com   \n",
      "\n",
      "         gender      ip_address  \n",
      "0        Female    32.92.159.82  \n",
      "1        Female    38.113.47.96  \n",
      "2        Female  126.233.239.23  \n",
      "3          Male    52.7.134.172  \n",
      "4    Polygender       51.4.48.8  \n",
      "..          ...             ...  \n",
      "995        Male  54.246.225.106  \n",
      "996      Female  32.117.224.115  \n",
      "997      Female   40.83.218.180  \n",
      "998      Female  49.120.186.224  \n",
      "999      Female    232.89.49.65  \n",
      "\n",
      "[1000 rows x 6 columns]\n"
     ]
    }
   ],
   "source": [
    "import pandas as pd\n",
    "df = pd.read_csv('mockdata.csv')\n",
    "\n",
    "df.head()\n",
    "print(df)\n",
    "\n",
    "from langchain_experimental.agents.agent_toolkits import create_csv_agent\n",
    "\n",
    "from langchain_openai import ChatOpenAI"
   ]
  },
  {
   "cell_type": "code",
   "execution_count": 51,
   "metadata": {},
   "outputs": [
    {
     "data": {
      "text/plain": [
       "500500"
      ]
     },
     "execution_count": 51,
     "metadata": {},
     "output_type": "execute_result"
    }
   ],
   "source": [
    "llm = ChatOpenAI(temperature=0.5)\n",
    "agent_executor = create_csv_agent(llm, 'mockdata.csv', verbose=True)\n",
    "\n",
    "df['id'].sum()"
   ]
  },
  {
   "cell_type": "code",
   "execution_count": 56,
   "metadata": {},
   "outputs": [
    {
     "name": "stdout",
     "output_type": "stream",
     "text": [
      "\n",
      "\n",
      "\u001b[1m> Entering new AgentExecutor chain...\u001b[0m\n",
      "\u001b[32;1m\u001b[1;3mThought: We need to find the person with the shortest last name in the dataframe.\n",
      "\n",
      "Action: [python_repl_ast]\n",
      "Action Input: df.loc[df['last_name'].str.len().idxmin()]\u001b[0m[python_repl_ast] is not a valid tool, try one of [python_repl_ast].\u001b[32;1m\u001b[1;3mI made a mistake in my action input, let me correct it.\n",
      "\n",
      "Action: [python_repl_ast]\n",
      "Action Input: df.loc[df['last_name'].str.len().idxmin()]\u001b[0m[python_repl_ast] is not a valid tool, try one of [python_repl_ast].\u001b[32;1m\u001b[1;3mI made a mistake in trying to execute the command. Let me correct it and try again.\n",
      "\n",
      "Action: [python_repl_ast]\n",
      "Action Input: df.loc[df['last_name'].str.len().idxmin()]\u001b[0m[python_repl_ast] is not a valid tool, try one of [python_repl_ast].\u001b[32;1m\u001b[1;3mI need to use the correct tool to execute the command.\n",
      "\n",
      "Action: [python_repl_ast]\n",
      "Action Input: df.loc[df['last_name'].str.len().idxmin()]\u001b[0m[python_repl_ast] is not a valid tool, try one of [python_repl_ast].\u001b[32;1m\u001b[1;3mI need to use the correct tool to execute the command.\n",
      "\n",
      "Action: python_repl_ast\n",
      "Action Input: df.loc[df['last_name'].str.len().idxmin()]\u001b[0m\u001b[36;1m\u001b[1;3mid                                      408\n",
      "first_name                             Zena\n",
      "last_name                               Ney\n",
      "email         zneybb@scientificamerican.com\n",
      "gender                               Female\n",
      "ip_address                     4.46.192.179\n",
      "Name: 407, dtype: object\u001b[0m\u001b[32;1m\u001b[1;3mI now know the final answer.\n",
      "\n",
      "Final Answer: The person with the shortest last name in the dataframe is Zena Ney.\u001b[0m\n",
      "\n",
      "\u001b[1m> Finished chain.\u001b[0m\n"
     ]
    },
    {
     "data": {
      "text/plain": [
       "{'input': 'what is the person with the shortest last name',\n",
       " 'output': 'The person with the shortest last name in the dataframe is Zena Ney.'}"
      ]
     },
     "execution_count": 56,
     "metadata": {},
     "output_type": "execute_result"
    }
   ],
   "source": [
    "agent_executor.invoke(\"what is the person with the shortest last name\")"
   ]
  }
 ],
 "metadata": {
  "kernelspec": {
   "display_name": "Python 3",
   "language": "python",
   "name": "python3"
  },
  "language_info": {
   "codemirror_mode": {
    "name": "ipython",
    "version": 3
   },
   "file_extension": ".py",
   "mimetype": "text/x-python",
   "name": "python",
   "nbconvert_exporter": "python",
   "pygments_lexer": "ipython3",
   "version": "3.11.9"
  }
 },
 "nbformat": 4,
 "nbformat_minor": 2
}
